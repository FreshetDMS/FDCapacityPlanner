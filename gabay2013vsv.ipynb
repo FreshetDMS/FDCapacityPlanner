{
 "metadata": {
  "name": ""
 },
 "nbformat": 3,
 "nbformat_minor": 0,
 "worksheets": [
  {
   "cells": [
    {
     "cell_type": "code",
     "collapsed": false,
     "input": [
      "import random\n",
      "\n",
      "from vsvbp.container import Item\n",
      "from vsvbp.generator import generator, similar_items\n",
      "from vsvbp.heuristics import bfd_item_centric\n",
      "from vsvbp.measures import do_nothing\n",
      "\n",
      "seed = 0\n",
      "num_instances = 100\n",
      "num_bins = 100\n",
      "num_resources = 5\n",
      "min_fill = .8\n",
      "rate=.25\n",
      "rem=.8\n",
      "sd = .2\n",
      "\n",
      "base = [random.randint(5,200) for i in xrange(num_resources)]\n",
      "inst = generator(num_bins, num_resources, min_fill, similar_items, seed, base_item=Item(base), dev=sd)\n",
      "inst.empty()\n",
      "print len(inst.items), len(inst.bins)\n",
      "print bfd_item_centric(inst.items[:], inst.bins[:], do_nothing, do_nothing)"
     ],
     "language": "python",
     "metadata": {},
     "outputs": [
      {
       "output_type": "stream",
       "stream": "stdout",
       "text": [
        "382 100\n",
        "[(377, [189, 186, 54, 103, 15]), (379, [180, 229, 54, 92, 16]), (380, [130, 240, 118, 86, 20]), (381, [174, 157, 50, 77, 17])]"
       ]
      },
      {
       "output_type": "stream",
       "stream": "stdout",
       "text": [
        "\n"
       ]
      }
     ],
     "prompt_number": 13
    },
    {
     "cell_type": "code",
     "collapsed": false,
     "input": [
      "heuristics = [ 'bfd_item_centric', 'bfd_bin_centric', 'bin_balancing' ]\n",
      "item_measures = [ 'do_nothing', 'shuffleItemsOnce', 'shuffleItems', 'staticItemsOneOverC', 'dynamicItemsOneOverC',\n",
      "                  'staticItemsOneOverR', 'dynamicItemsOneOverR', 'staticItemsROverC', 'dynamicItemsROverC' ]\n",
      "bin_measures = [ 'do_nothing', 'shuffleBinsOnce', 'shuffleBins', 'staticBinsOneOverC', 'dyamicBinsOneOverC',\n",
      "                 'staticBinsOneOverR', 'dynamicBinsOneOverR', 'staticBinsROverC', 'dynamicBinsROverC' ]\n",
      "bin_balancing_single = ['True', 'False'"
     ],
     "language": "python",
     "metadata": {},
     "outputs": [
      {
       "output_type": "stream",
       "stream": "stdout",
       "text": [
        "['bfd_bin_centric', 'bfd_item_centric', 'bin_balancing', 'compute_bin_res', 'compute_item_req', 'do_nothing', 'dot_product', 'dp', 'dp_nonorm', 'dp_normC', 'dp_normR', 'dynamicBinsOneOverC', 'dynamicBinsOneOverR', 'dynamicBinsROverC', 'dynamicItemsOneOverC', 'dynamicItemsOneOverR', 'dynamicItemsROverC', 'maxl', 'minl', 'norm', 'shuffleBins', 'shuffleBinsOnce', 'shuffleItems', 'shuffleItemsOnce', 'similarity', 'sortl', 'staticBinsOneOverC', 'staticBinsOneOverR', 'staticBinsROverC', 'staticItemsOneOverC', 'staticItemsOneOverR', 'staticItemsROverC']\n"
       ]
      }
     ],
     "prompt_number": 20
    },
    {
     "cell_type": "code",
     "collapsed": false,
     "input": [],
     "language": "python",
     "metadata": {},
     "outputs": []
    }
   ],
   "metadata": {}
  }
 ]
}